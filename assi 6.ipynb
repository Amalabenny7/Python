{
 "cells": [
  {
   "cell_type": "code",
   "execution_count": 1,
   "id": "7b79d13d",
   "metadata": {},
   "outputs": [
    {
     "name": "stdout",
     "output_type": "stream",
     "text": [
      "enter the number:5\n",
      "factorial= 120\n"
     ]
    }
   ],
   "source": [
    "# factorial of number\n",
    "\n",
    "import math\n",
    "n=int(input(\"enter the number:\"))\n",
    "f=1\n",
    "i=1\n",
    "while(i<=n):\n",
    "    f=f*i\n",
    "    i=i+1\n",
    "print(\"factorial=\",f)"
   ]
  },
  {
   "cell_type": "code",
   "execution_count": 5,
   "id": "6251b29c",
   "metadata": {},
   "outputs": [
    {
     "name": "stdout",
     "output_type": "stream",
     "text": [
      "enter limit:4\n",
      "fibonacci series=\n",
      "0\n",
      "1\n",
      "1\n",
      "2\n",
      "3\n"
     ]
    }
   ],
   "source": [
    "# fibonacci series\n",
    "\n",
    "n=int(input(\"enter limit:\"))\n",
    "first=1\n",
    "second=0\n",
    "print(\"fibonacci series=\")\n",
    "print(second)\n",
    "i=1\n",
    "while(i<=n):\n",
    "    r=first+second\n",
    "    print(r)\n",
    "    first=second\n",
    "    second=r\n",
    "    i=i+1\n",
    "    "
   ]
  },
  {
   "cell_type": "code",
   "execution_count": null,
   "id": "e0b1a055",
   "metadata": {},
   "outputs": [],
   "source": []
  }
 ],
 "metadata": {
  "kernelspec": {
   "display_name": "Python 3 (ipykernel)",
   "language": "python",
   "name": "python3"
  },
  "language_info": {
   "codemirror_mode": {
    "name": "ipython",
    "version": 3
   },
   "file_extension": ".py",
   "mimetype": "text/x-python",
   "name": "python",
   "nbconvert_exporter": "python",
   "pygments_lexer": "ipython3",
   "version": "3.10.12"
  }
 },
 "nbformat": 4,
 "nbformat_minor": 5
}
