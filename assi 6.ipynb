{
 "cells": [
  {
   "cell_type": "code",
   "execution_count": 1,
   "id": "7b79d13d",
   "metadata": {},
   "outputs": [
    {
     "name": "stdout",
     "output_type": "stream",
     "text": [
      "enter the number:5\n",
      "factorial= 120\n"
     ]
    }
   ],
   "source": [
    "# factorial of number\n",
    "\n",
    "import math\n",
    "n=int(input(\"enter the number:\"))\n",
    "f=1\n",
    "i=1\n",
    "while(i<=n):\n",
    "    f=f*i\n",
    "    i=i+1\n",
    "print(\"factorial=\",f)"
   ]
  },
  {
   "cell_type": "code",
   "execution_count": 5,
   "id": "6251b29c",
   "metadata": {},
   "outputs": [
    {
     "name": "stdout",
     "output_type": "stream",
     "text": [
      "enter limit:4\n",
      "fibonacci series=\n",
      "0\n",
      "1\n",
      "1\n",
      "2\n",
      "3\n"
     ]
    }
   ],
   "source": [
    "# fibonacci series\n",
    "\n",
    "n=int(input(\"enter limit:\"))\n",
    "first=1\n",
    "second=0\n",
    "print(\"fibonacci series=\")\n",
    "print(second)\n",
    "i=1\n",
    "while(i<=n):\n",
    "    r=first+second\n",
    "    print(r)\n",
    "    first=second\n",
    "    second=r\n",
    "    i=i+1\n",
    "    "
   ]
  },
  {
   "cell_type": "code",
   "execution_count": 1,
   "id": "e0b1a055",
   "metadata": {},
   "outputs": [
    {
     "name": "stdout",
     "output_type": "stream",
     "text": [
      "Enter the first number:13\n",
      "Enter the seond number:14\n",
      "GCD of 13 and 14 is 1\n"
     ]
    }
   ],
   "source": [
    "#GCD\n",
    "\n",
    "n1=int(input(\"Enter the first number:\"))\n",
    "n2=int(input(\"Enter the seond number:\"))\n",
    "if(n1>n2):\n",
    "    c=n2\n",
    "else:\n",
    "    c=n1\n",
    "while(c>0):\n",
    "    if(n1%c==0)and(n2%c==0):\n",
    "        print(\"GCD of\",n1,\"and\",n2,\"is\",c)\n",
    "        break;\n",
    "    c=c-1"
   ]
  },
  {
   "cell_type": "code",
   "execution_count": 1,
   "id": "629a53e0",
   "metadata": {},
   "outputs": [
    {
     "name": "stdout",
     "output_type": "stream",
     "text": [
      "enter list of numbers:1,2,3,4\n",
      "sum of the elements in ['1', '2', '3', '4'] = 10\n"
     ]
    }
   ],
   "source": [
    "#sum of items in a list\n",
    "\n",
    "l=list(input(\"enter list of numbers:\").split(\",\"))\n",
    "m=len(l)\n",
    "a=0\n",
    "i=0\n",
    "for i in range(m):\n",
    "    b=int(l[i])\n",
    "    a=a+b\n",
    "print(\"sum of the elements in\",l,\"=\",a)"
   ]
  },
  {
   "cell_type": "code",
   "execution_count": 4,
   "id": "5d165495",
   "metadata": {},
   "outputs": [
    {
     "name": "stdout",
     "output_type": "stream",
     "text": [
      "enter numbers separated by commas:2,3,4,5\n",
      "tuple= ('2', '3', '4', '5')\n",
      "Average value of the numbers in given tuple: 3.5\n"
     ]
    }
   ],
   "source": [
    "#average of tuple\n",
    "\n",
    "t=tuple(input(\"enter numbers separated by commas:\").split(\",\"))\n",
    "print(\"tuple=\",t)\n",
    "l=len(t)\n",
    "c=0\n",
    "for i in range(l):\n",
    "    c=int(t[i])+c\n",
    "    avg=c/l\n",
    "print(\"Average value of the numbers in given tuple:\",avg)\n",
    "    "
   ]
  },
  {
   "cell_type": "code",
   "execution_count": 5,
   "id": "b0b42014",
   "metadata": {},
   "outputs": [
    {
     "name": "stdout",
     "output_type": "stream",
     "text": [
      "enter a string :amala\n",
      "a is repeated 3 time(s)\n",
      "m is repeated 1 time(s)\n",
      "l is repeated 1 time(s)\n"
     ]
    }
   ],
   "source": [
    "#freaquency of characters in a string\n",
    "\n",
    "s=input(\"enter a string :\")\n",
    "f={}\n",
    "for i in s:\n",
    "    if i in f:\n",
    "        f[i]=f[i]+1\n",
    "    else:\n",
    "        f[i]=1\n",
    "for keys,value in f.items():\n",
    "    print(keys,\"is repeated\",value,\"time(s)\")"
   ]
  },
  {
   "cell_type": "code",
   "execution_count": null,
   "id": "1a997ee0",
   "metadata": {},
   "outputs": [],
   "source": []
  }
 ],
 "metadata": {
  "kernelspec": {
   "display_name": "Python 3 (ipykernel)",
   "language": "python",
   "name": "python3"
  },
  "language_info": {
   "codemirror_mode": {
    "name": "ipython",
    "version": 3
   },
   "file_extension": ".py",
   "mimetype": "text/x-python",
   "name": "python",
   "nbconvert_exporter": "python",
   "pygments_lexer": "ipython3",
   "version": "3.10.12"
  }
 },
 "nbformat": 4,
 "nbformat_minor": 5
}
