{
 "cells": [
  {
   "cell_type": "code",
   "execution_count": 1,
   "id": "5c872020",
   "metadata": {},
   "outputs": [
    {
     "name": "stdout",
     "output_type": "stream",
     "text": [
      "Enter numbers with comma separated:1,2,3,4,5,6,7,8\n",
      "positive integers from the given list are: [1, 2, 3, 4, 5, 6, 7, 8]\n",
      "square of numbers in the list is: [1, 4, 9, 16, 25, 36, 49, 64]\n",
      "enter the word:amala\n",
      "vowels in amala are ['a', 'a', 'a']\n",
      "ordinal values of ['a', 'm', 'a', 'l', 'a'] are: [97, 109, 97, 108, 97]\n"
     ]
    }
   ],
   "source": [
    "#using list comprehension:\n",
    "#list of positive numbers\n",
    "n=input(\"Enter numbers with comma separated:\").split(\",\")\n",
    "a=map(int,n)\n",
    "new1=[x for x in a if x>0]\n",
    "print(\"positive integers from the given list are:\",new1)\n",
    "d=map(int,n)\n",
    "\n",
    "#square of n numbers\n",
    "new2=[x**2 for x in d]\n",
    "print(\"square of numbers in the list is:\",new2)\n",
    "\n",
    "#list of vowels\n",
    "vw=input(\"enter the word:\")\n",
    "vw1=[x for x in vw]\n",
    "vowel=['a','e','i','o','u','A','E','I','O','U']\n",
    "vw2=[x for x in vw1 if x in vowel]\n",
    "print(\"vowels in\",vw,\"are\",vw2)\n",
    "#ordinal values\n",
    "ordinal=[ord(x) for x in vw1]\n",
    "print(\"ordinal values of\",vw1,\"are:\",ordinal)"
   ]
  },
  {
   "cell_type": "code",
   "execution_count": 5,
   "id": "ada2ba99",
   "metadata": {},
   "outputs": [
    {
     "name": "stdout",
     "output_type": "stream",
     "text": [
      "enter number with comma seperated:1,2,3,4,5,6,7,8,9\n",
      "list 1 [1, 2, 3, 4, 5, 6, 7, 8, 9]\n",
      "list after removing even number= [1, 3, 5, 7, 9]\n"
     ]
    }
   ],
   "source": [
    "#remove the even numbers from list\n",
    "n=input(\"enter number with comma seperated:\").split(\",\")\n",
    "b=map(int,n)\n",
    "list1=[x for x in b]\n",
    "print(\"list 1\",list1)\n",
    "for even in list1:\n",
    "    if(even%2==0):\n",
    "        list1.remove(even)\n",
    "print(\"list after removing even number=\",list1)"
   ]
  },
  {
   "cell_type": "code",
   "execution_count": 1,
   "id": "2d0948e8",
   "metadata": {},
   "outputs": [
    {
     "name": "stdout",
     "output_type": "stream",
     "text": [
      "Enter colors for first list with comma separated: red,blue,yellow\n",
      "Enter colors for second list with comma separated: red,blue,green\n",
      "Difference of  {'yellow', 'red', 'blue'}  and  {'green', 'red', 'blue'} : \n",
      "{'yellow'}\n"
     ]
    }
   ],
   "source": [
    "#print out all colors from color-list not contained in coclor-list2\n",
    "c1=set(input('Enter colors for first list with comma separated: ').split(','))\n",
    "c2=set(input('Enter colors for second list with comma separated: ').split(','))\n",
    "print('Difference of ',c1,' and ',c2,': ')\n",
    "print(c1.difference(c2))"
   ]
  },
  {
   "cell_type": "code",
   "execution_count": 3,
   "id": "58e99acb",
   "metadata": {},
   "outputs": [
    {
     "name": "stdout",
     "output_type": "stream",
     "text": [
      "Enter first list with comma separated: 10,20,30,40\n",
      "Enter second list with comma separated: 10,20,30,40,50\n",
      "Two lists have unequal length\n",
      "sum of two list are  not equal\n",
      "30  occurs in both list\n",
      "10  occurs in both list\n",
      "20  occurs in both list\n",
      "40  occurs in both list\n"
     ]
    }
   ],
   "source": [
    "#check two list\n",
    "\n",
    "\n",
    "lst1=set(input('Enter first list with comma separated: ').split(','))\n",
    "lst2=set(input('Enter second list with comma separated: ').split(','))\n",
    "sum1 = str(0)\n",
    "sum2 = str(0)\n",
    "if len(lst1) == len(lst2):\n",
    "    print(\"both list are of equal length\")\n",
    "else:\n",
    "    print(\"Two lists have unequal length\")\n",
    "for x in lst1:\n",
    "    sum1 = sum1 + x\n",
    "for x in lst2:\n",
    "    sum2 = sum2 + x\n",
    "if sum1 == sum2:\n",
    "    a = \"equal\"  \n",
    "else:\n",
    "    a = \"not equal\"  \n",
    "print(\"sum of two list are \", a)  \n",
    "for x in lst1:\n",
    "    for y in lst2:\n",
    "        if x == y:\n",
    "            print(y,\" occurs in both list\")"
   ]
  },
  {
   "cell_type": "code",
   "execution_count": 4,
   "id": "5c23f768",
   "metadata": {},
   "outputs": [
    {
     "name": "stdout",
     "output_type": "stream",
     "text": [
      "Enter list comma separated: a,m,a,l,a\n",
      "{'l', 'm', 'a'}\n",
      "occurence of a in {'l', 'm', 'a'}  is: 1\n"
     ]
    }
   ],
   "source": [
    "#52.Store a list of first names.Count the occurrences of ‘a’ within the list.\n",
    "\n",
    "\n",
    "names=set(input('Enter list comma separated: ').split(','))\n",
    "print(names)\n",
    "count=0\n",
    "for name in names:\n",
    "    count+=name.count('a')\n",
    "print(\"occurence of a in\",names,\" is:\",count)"
   ]
  },
  {
   "cell_type": "code",
   "execution_count": 8,
   "id": "3ec28f63",
   "metadata": {},
   "outputs": [
    {
     "name": "stdout",
     "output_type": "stream",
     "text": [
      "enter an integer('enter stop to stop'):1\n",
      "enter an integer('enter stop to stop'):100\n",
      "enter an integer('enter stop to stop'):200\n",
      "enter an integer('enter stop to stop'):stop\n",
      "[1, 100, 'over']\n"
     ]
    }
   ],
   "source": [
    "#list of integers value greater than 100 store 'over\n",
    "\n",
    "\n",
    "values=[]\n",
    "while True:\n",
    "    value=input(\"enter an integer('enter stop to stop'):\")\n",
    "    if value == 'stop' :\n",
    "        break\n",
    "    elif int(value)>100:\n",
    "        values.append('over')\n",
    "    else:\n",
    "        values.append(int(value))\n",
    "print(values)"
   ]
  },
  {
   "cell_type": "code",
   "execution_count": null,
   "id": "a0a21bf8",
   "metadata": {},
   "outputs": [],
   "source": []
  }
 ],
 "metadata": {
  "kernelspec": {
   "display_name": "Python 3 (ipykernel)",
   "language": "python",
   "name": "python3"
  },
  "language_info": {
   "codemirror_mode": {
    "name": "ipython",
    "version": 3
   },
   "file_extension": ".py",
   "mimetype": "text/x-python",
   "name": "python",
   "nbconvert_exporter": "python",
   "pygments_lexer": "ipython3",
   "version": "3.10.12"
  }
 },
 "nbformat": 4,
 "nbformat_minor": 5
}
