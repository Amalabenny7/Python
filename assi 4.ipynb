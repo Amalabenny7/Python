{
 "cells": [
  {
   "cell_type": "code",
   "execution_count": 8,
   "id": "c0abaede",
   "metadata": {},
   "outputs": [
    {
     "name": "stdout",
     "output_type": "stream",
     "text": [
      "enter numbers:10,50,80,20\n",
      "10,50,80,20\n",
      "resultant list is= ['10', '50', '80', '20']\n"
     ]
    }
   ],
   "source": [
    "#sequence of numbers sepersted by ,\n",
    "\n",
    "n=input(\"enter numbers:\")\n",
    "print(n)\n",
    "p=n.split(\",\")\n",
    "print(\"resultant list is=\",p)"
   ]
  },
  {
   "cell_type": "code",
   "execution_count": 2,
   "id": "670953bf",
   "metadata": {},
   "outputs": [
    {
     "name": "stdout",
     "output_type": "stream",
     "text": [
      "enter the colors:red,blue,pink,black\n",
      "first color is= red\n",
      "last color is= black\n"
     ]
    }
   ],
   "source": [
    "#first and last color\n",
    "\n",
    "n=input(\"enter the colors:\")\n",
    "p=n.split(\",\")\n",
    "print(\"first color is=\",p[0])\n",
    "print(\"last color is=\",p[-1])"
   ]
  },
  {
   "cell_type": "code",
   "execution_count": 3,
   "id": "8313f374",
   "metadata": {},
   "outputs": [
    {
     "name": "stdout",
     "output_type": "stream",
     "text": [
      "enter the file:abc.py\n",
      "extension is= py\n"
     ]
    }
   ],
   "source": [
    "#extension\n",
    "\n",
    "f=input(\"enter the file:\")\n",
    "p=f.split(\".\")\n",
    "print(\"extension is=\",p[-1])"
   ]
  },
  {
   "cell_type": "code",
   "execution_count": null,
   "id": "2920044c",
   "metadata": {},
   "outputs": [],
   "source": []
  },
  {
   "cell_type": "code",
   "execution_count": null,
   "id": "0ba55ba8",
   "metadata": {},
   "outputs": [],
   "source": []
  },
  {
   "cell_type": "code",
   "execution_count": null,
   "id": "4356122a",
   "metadata": {},
   "outputs": [],
   "source": []
  }
 ],
 "metadata": {
  "kernelspec": {
   "display_name": "Python 3 (ipykernel)",
   "language": "python",
   "name": "python3"
  },
  "language_info": {
   "codemirror_mode": {
    "name": "ipython",
    "version": 3
   },
   "file_extension": ".py",
   "mimetype": "text/x-python",
   "name": "python",
   "nbconvert_exporter": "python",
   "pygments_lexer": "ipython3",
   "version": "3.10.12"
  }
 },
 "nbformat": 4,
 "nbformat_minor": 5
}
