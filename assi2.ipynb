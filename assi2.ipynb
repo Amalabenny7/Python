{
 "cells": [
  {
   "cell_type": "code",
   "execution_count": 2,
   "id": "ae10cd50",
   "metadata": {},
   "outputs": [
    {
     "name": "stdout",
     "output_type": "stream",
     "text": [
      "area of circle\n",
      "enter the radius of the circle2\n",
      "area of a circle= 12.566370614359172\n"
     ]
    }
   ],
   "source": [
    "print(\"area of circle\")\n",
    "from math import pi\n",
    "a=float(input(\"enter the radius of the circle\"))\n",
    "area=(pi*a*a)\n",
    "print(\"area of a circle=\",area)"
   ]
  },
  {
   "cell_type": "code",
   "execution_count": 7,
   "id": "a4684933",
   "metadata": {},
   "outputs": [
    {
     "name": "stdout",
     "output_type": "stream",
     "text": [
      "Enter the degree celsious:100\n",
      "fahrenheit= 212.0\n"
     ]
    }
   ],
   "source": [
    "x=int(input(\"Enter the degree celsious:\"))\n",
    "f=x*(9/5)+32\n",
    "print(\"fahrenheit=\",f)"
   ]
  },
  {
   "cell_type": "code",
   "execution_count": 9,
   "id": "7ebc368b",
   "metadata": {},
   "outputs": [
    {
     "name": "stdout",
     "output_type": "stream",
     "text": [
      "Enter the kilometer:1\n",
      "mile= 0.62137\n"
     ]
    }
   ],
   "source": [
    "k=int(input(\"Enter the kilometer:\"))\n",
    "y=0.62137\n",
    "m=k*y\n",
    "print(\"mile=\",m)"
   ]
  },
  {
   "cell_type": "code",
   "execution_count": 10,
   "id": "9b3eddf7",
   "metadata": {},
   "outputs": [
    {
     "name": "stdout",
     "output_type": "stream",
     "text": [
      "enter the first number:1\n",
      "enter the second number:2\n",
      "the gratest number is 2\n"
     ]
    }
   ],
   "source": [
    "a=int(input(\"enter the first number:\"))\n",
    "b=int(input(\"enter the second number:\"))\n",
    "if a<b:\n",
    "    print(\"the gratest number is\",b)\n",
    "else:\n",
    "    print(\"the gratest number is\",a)"
   ]
  },
  {
   "cell_type": "code",
   "execution_count": null,
   "id": "e8cfad54",
   "metadata": {},
   "outputs": [],
   "source": []
  }
 ],
 "metadata": {
  "kernelspec": {
   "display_name": "Python 3 (ipykernel)",
   "language": "python",
   "name": "python3"
  },
  "language_info": {
   "codemirror_mode": {
    "name": "ipython",
    "version": 3
   },
   "file_extension": ".py",
   "mimetype": "text/x-python",
   "name": "python",
   "nbconvert_exporter": "python",
   "pygments_lexer": "ipython3",
   "version": "3.10.12"
  }
 },
 "nbformat": 4,
 "nbformat_minor": 5
}
