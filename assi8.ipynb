{
 "cells": [
  {
   "cell_type": "code",
   "execution_count": 1,
   "id": "270c5381",
   "metadata": {},
   "outputs": [
    {
     "name": "stdout",
     "output_type": "stream",
     "text": [
      "Enter the elements:54678\n",
      "The original tuple without reversing is ('5', '4', '6', '7', '8')\n",
      "The reversed tuple is ('8', '7', '6', '4', '5')\n"
     ]
    }
   ],
   "source": [
    "#Reverse a tuple\n",
    "\n",
    "t=tuple(input(\"Enter the elements:\"))\n",
    "print(\"The original tuple without reversing is\",t)\n",
    "reverse=tuple(reversed(t))\n",
    "print(\"The reversed tuple is\",reverse)"
   ]
  },
  {
   "cell_type": "code",
   "execution_count": 2,
   "id": "41036ee1",
   "metadata": {},
   "outputs": [
    {
     "name": "stdout",
     "output_type": "stream",
     "text": [
      "Enter number:12345\n",
      "Tuples ('1', '2', '3', '4', '5')\n",
      "average value of the number in given tuple: 3.0\n"
     ]
    }
   ],
   "source": [
    "#Average of Tuple\n",
    "\n",
    "t=tuple(input(\"Enter number:\"))\n",
    "print(\"Tuples\",t)\n",
    "l=len(t)\n",
    "c=0\n",
    "for i in range(l):\n",
    "    c=int(t[i])+c\n",
    "    avg=c/l\n",
    "print(\"average value of the number in given tuple:\",avg)"
   ]
  },
  {
   "cell_type": "code",
   "execution_count": 3,
   "id": "ce2e3a15",
   "metadata": {},
   "outputs": [
    {
     "name": "stdout",
     "output_type": "stream",
     "text": [
      "enter number seperated by commas:3,4,5,6,7,0\n",
      "tuple ('3', '4', '5', '6', '7', '0')\n",
      "remove:6\n",
      "('3', '4', '5', '7', '0')\n"
     ]
    }
   ],
   "source": [
    "#remove an item from tuple\n",
    "\n",
    "t=tuple(input(\"enter number seperated by commas:\").split(\",\"))\n",
    "tn=list(t)\n",
    "print(\"tuple\",t)\n",
    "d=input(\"remove:\")\n",
    "for x in t:\n",
    "    if d in x:\n",
    "        tn.remove(x)\n",
    "        result=tuple(tn)\n",
    "print(result)"
   ]
  },
  {
   "cell_type": "code",
   "execution_count": 1,
   "id": "2ebc4b4e",
   "metadata": {},
   "outputs": [
    {
     "name": "stdout",
     "output_type": "stream",
     "text": [
      "enter number seperated by commas:1,2,3,4,5,6,7,8,9,10\n",
      "3rd element 3\n",
      "3rd element 8\n"
     ]
    }
   ],
   "source": [
    "#3rd element & 3rd element from last tuple \n",
    "\n",
    "t=tuple(input(\"enter number seperated by commas:\").split(\",\"))\n",
    "print(\"3rd element\",t[2])\n",
    "print(\"3rd element\",t[-3])\n"
   ]
  },
  {
   "cell_type": "code",
   "execution_count": null,
   "id": "dab077b9",
   "metadata": {},
   "outputs": [],
   "source": []
  }
 ],
 "metadata": {
  "kernelspec": {
   "display_name": "Python 3 (ipykernel)",
   "language": "python",
   "name": "python3"
  },
  "language_info": {
   "codemirror_mode": {
    "name": "ipython",
    "version": 3
   },
   "file_extension": ".py",
   "mimetype": "text/x-python",
   "name": "python",
   "nbconvert_exporter": "python",
   "pygments_lexer": "ipython3",
   "version": "3.10.12"
  }
 },
 "nbformat": 4,
 "nbformat_minor": 5
}
