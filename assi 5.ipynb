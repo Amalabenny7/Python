{
 "cells": [
  {
   "cell_type": "code",
   "execution_count": 3,
   "id": "f84f7884",
   "metadata": {},
   "outputs": [
    {
     "name": "stdout",
     "output_type": "stream",
     "text": [
      "enter the number0\n",
      "The given number is zero\n"
     ]
    }
   ],
   "source": [
    "#n is positive,negativve,zero\n",
    "\n",
    "n=int(input(\"enter the number\"))\n",
    "if(n>0):\n",
    "    print(\"The given number is POSITIVE\")\n",
    "elif(n<0):\n",
    "    print(\"The given number is NEGATIVE\")\n",
    "else:\n",
    "    print(\"The given number is zero\")"
   ]
  },
  {
   "cell_type": "code",
   "execution_count": 10,
   "id": "d38c5900",
   "metadata": {
    "scrolled": true
   },
   "outputs": [
    {
     "name": "stdout",
     "output_type": "stream",
     "text": [
      "enter the number:60\n",
      "enter the number:70\n",
      "enter the number:90\n",
      "90 is the greatest number\n"
     ]
    }
   ],
   "source": [
    "# greatest of 3\n",
    "\n",
    "n=int(input(\"enter the number:\"))\n",
    "p=int(input(\"enter the number:\"))\n",
    "m=int(input(\"enter the number:\"))\n",
    "if(n>p and n>m):\n",
    "    print(n,\"is the greatest number\")\n",
    "elif(p>m and p>n):\n",
    "    print(p,\"is the greatest number\")\n",
    "else:\n",
    "    print(m,\"is the greatest number\")"
   ]
  },
  {
   "cell_type": "code",
   "execution_count": 3,
   "id": "675af442",
   "metadata": {},
   "outputs": [
    {
     "name": "stdout",
     "output_type": "stream",
     "text": [
      "enter first number:5\n",
      "enter second number:2\n",
      "1.ADDITION\n",
      "2.SUBSTRACTION\n",
      "3.MULTIPLICATION\n",
      "4.DIVISION\n",
      "enter your choice :4\n",
      "The result is= 2.5\n"
     ]
    }
   ],
   "source": [
    "#calculator\n",
    "\n",
    "a=float(input(\"enter first number:\"))\n",
    "b=float(input(\"enter second number:\"))\n",
    "print(\"1.ADDITION\")\n",
    "print(\"2.SUBSTRACTION\")\n",
    "print(\"3.MULTIPLICATION\")\n",
    "print(\"4.DIVISION\")\n",
    "choice=int(input(\"enter your choice :\"))\n",
    "if(choice==1):\n",
    "    print(\"The result is=\",round(a+b))\n",
    "elif(choice==2):\n",
    "    print(\"The result is=\",round(a-b))\n",
    "elif(choice==3):\n",
    "    print(\"The result is=\",round(a*b))\n",
    "elif(choice==4):\n",
    "    print(\"The result is=\",(a/b))\n",
    "else:\n",
    "    print(\"Invalid\")"
   ]
  },
  {
   "cell_type": "code",
   "execution_count": null,
   "id": "2ba7d11f",
   "metadata": {},
   "outputs": [],
   "source": []
  }
 ],
 "metadata": {
  "kernelspec": {
   "display_name": "Python 3 (ipykernel)",
   "language": "python",
   "name": "python3"
  },
  "language_info": {
   "codemirror_mode": {
    "name": "ipython",
    "version": 3
   },
   "file_extension": ".py",
   "mimetype": "text/x-python",
   "name": "python",
   "nbconvert_exporter": "python",
   "pygments_lexer": "ipython3",
   "version": "3.10.12"
  }
 },
 "nbformat": 4,
 "nbformat_minor": 5
}
