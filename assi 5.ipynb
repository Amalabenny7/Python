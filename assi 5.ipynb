{
 "cells": [
  {
   "cell_type": "code",
   "execution_count": 3,
   "id": "f84f7884",
   "metadata": {},
   "outputs": [
    {
     "name": "stdout",
     "output_type": "stream",
     "text": [
      "enter the number0\n",
      "The given number is zero\n"
     ]
    }
   ],
   "source": [
    "#n is positive,negativve,zero\n",
    "\n",
    "n=int(input(\"enter the number\"))\n",
    "if(n>0):\n",
    "    print(\"The given number is POSITIVE\")\n",
    "elif(n<0):\n",
    "    print(\"The given number is NEGATIVE\")\n",
    "else:\n",
    "    print(\"The given number is zero\")"
   ]
  },
  {
   "cell_type": "code",
   "execution_count": 4,
   "id": "d38c5900",
   "metadata": {},
   "outputs": [
    {
     "name": "stdout",
     "output_type": "stream",
     "text": [
      "enter the number:3\n",
      "enter the number:2\n",
      "enter the number:1\n",
      "3 is the greatest number is\n"
     ]
    }
   ],
   "source": [
    "# greatest of 3\n",
    "\n",
    "n=int(input(\"enter the number:\"))\n",
    "p=int(input(\"enter the number:\"))\n",
    "m=int(input(\"enter the number:\"))\n",
    "if(n>p):\n",
    "    print(n,\"is the greatest number is\")\n",
    "elif(p>m):\n",
    "    print(p,\"is the greatest number\")\n",
    "else:\n",
    "    print(m,\"is the greatest number\")"
   ]
  },
  {
   "cell_type": "code",
   "execution_count": 6,
   "id": "675af442",
   "metadata": {},
   "outputs": [
    {
     "name": "stdout",
     "output_type": "stream",
     "text": [
      "enter first number:2\n",
      "enter second number:3\n",
      "1.ADDITION\n",
      "2.SUBSTRACTION\n",
      "3.MULTIPLICATION\n",
      "4.DIVISION\n",
      "enter your choice :1\n",
      "The result is= 5\n"
     ]
    }
   ],
   "source": [
    "#calculator\n",
    "\n",
    "a=float(input(\"enter first number:\"))\n",
    "b=float(input(\"enter second number:\"))\n",
    "print(\"1.ADDITION\")\n",
    "print(\"2.SUBSTRACTION\")\n",
    "print(\"3.MULTIPLICATION\")\n",
    "print(\"4.DIVISION\")\n",
    "choice=int(input(\"enter your choice :\"))\n",
    "if(choice==1):\n",
    "    print(\"The result is=\",round(a+b))\n",
    "elif(choice==2):\n",
    "    print(\"The result is=\",round(a-b))\n",
    "elif(choice==3):\n",
    "    print(\"The result is=\",round(a*b))\n",
    "elif(choice==4):\n",
    "    print(\"The result is=\",round(a/b))\n",
    "else:\n",
    "    print(\"Invalid\")"
   ]
  },
  {
   "cell_type": "code",
   "execution_count": null,
   "id": "896bdb43",
   "metadata": {},
   "outputs": [],
   "source": []
  }
 ],
 "metadata": {
  "kernelspec": {
   "display_name": "Python 3 (ipykernel)",
   "language": "python",
   "name": "python3"
  },
  "language_info": {
   "codemirror_mode": {
    "name": "ipython",
    "version": 3
   },
   "file_extension": ".py",
   "mimetype": "text/x-python",
   "name": "python",
   "nbconvert_exporter": "python",
   "pygments_lexer": "ipython3",
   "version": "3.10.12"
  }
 },
 "nbformat": 4,
 "nbformat_minor": 5
}
