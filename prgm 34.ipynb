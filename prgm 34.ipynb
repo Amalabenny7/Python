{
 "cells": [
  {
   "cell_type": "code",
   "execution_count": 4,
   "id": "a83fdeab",
   "metadata": {},
   "outputs": [
    {
     "name": "stdout",
     "output_type": "stream",
     "text": [
      "1.Rectangle\n",
      "2.Circle\n",
      "3.Cuboid.\n",
      "4.Sphere.\n",
      "5.Exit\n",
      "\n",
      "Enter your choice:4\n",
      "enter radius:2\n",
      "Area of sphere is: 25.12\n",
      "Perimeter of sphere is: 50.24\n",
      "1.Rectangle\n",
      "2.Circle\n",
      "3.Cuboid.\n",
      "4.Sphere.\n",
      "5.Exit\n",
      "\n",
      "Enter your choice:3\n",
      "Enter length:4\n",
      "Enter breadth:5\n",
      "Enter height:8\n",
      "Area of cuboid is: 184\n",
      "Perimeter of cuboid is: 68\n",
      "1.Rectangle\n",
      "2.Circle\n",
      "3.Cuboid.\n",
      "4.Sphere.\n",
      "5.Exit\n",
      "\n",
      "Enter your choice:1\n",
      "Enter length:3\n",
      "Enter breadth:4\n",
      "Area of rectangle is: 12\n",
      "Perimeter of rectangle is: 14\n",
      "1.Rectangle\n",
      "2.Circle\n",
      "3.Cuboid.\n",
      "4.Sphere.\n",
      "5.Exit\n",
      "\n",
      "Enter your choice:2\n",
      "enter radius:2\n",
      "Area of circle is: 12.56\n",
      "Perimeter of circle is: 12.56\n",
      "1.Rectangle\n",
      "2.Circle\n",
      "3.Cuboid.\n",
      "4.Sphere.\n",
      "5.Exit\n",
      "\n",
      "Enter your choice:5\n",
      "Exiting...\n"
     ]
    }
   ],
   "source": [
    "from Graphics import rect\n",
    "from Graphics import cir\n",
    "from Graphics.graphics3d import cuboid\n",
    "from Graphics.graphics3d import sphere\n",
    "\n",
    "while(1):\n",
    "    print(\"1.Rectangle\\n2.Circle\\n3.Cuboid.\\n4.Sphere.\\n5.Exit\\n\")\n",
    "    ch=int(input(\"Enter your choice:\"))\n",
    "    if ch==1:\n",
    "        l=int(input(\"Enter length:\"))\n",
    "        b=int(input(\"Enter breadth:\"))\n",
    "        rect.rectarea(l,b)\n",
    "        rect.rectperi(l,b)\n",
    "    elif ch==2:\n",
    "        r=int(input(\"enter radius:\"))\n",
    "        cir.circlearea(r)\n",
    "        cir.circleperi(r)\n",
    "    elif ch==3:\n",
    "        l=int(input(\"Enter length:\"))\n",
    "        b=int(input(\"Enter breadth:\"))\n",
    "        h=int(input(\"Enter height:\"))\n",
    "        cuboid.cuboidarea(l,b,h)\n",
    "        cuboid.cuboidperi(l,b,h)\n",
    "    elif ch==4:\n",
    "        r=int(input(\"enter radius:\"))\n",
    "        sphere.spherearea(r)\n",
    "        sphere.sphereperi(r)\n",
    "    else:\n",
    "        print(\"Exiting...\")\n",
    "        break"
   ]
  },
  {
   "cell_type": "code",
   "execution_count": null,
   "id": "4476b57c",
   "metadata": {},
   "outputs": [],
   "source": []
  },
  {
   "cell_type": "code",
   "execution_count": null,
   "id": "e7fe8aca",
   "metadata": {},
   "outputs": [],
   "source": []
  }
 ],
 "metadata": {
  "kernelspec": {
   "display_name": "Python 3 (ipykernel)",
   "language": "python",
   "name": "python3"
  },
  "language_info": {
   "codemirror_mode": {
    "name": "ipython",
    "version": 3
   },
   "file_extension": ".py",
   "mimetype": "text/x-python",
   "name": "python",
   "nbconvert_exporter": "python",
   "pygments_lexer": "ipython3",
   "version": "3.10.12"
  }
 },
 "nbformat": 4,
 "nbformat_minor": 5
}
