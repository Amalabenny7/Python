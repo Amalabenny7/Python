{
 "cells": [
  {
   "cell_type": "code",
   "execution_count": 18,
   "id": "47a356dc",
   "metadata": {},
   "outputs": [
    {
     "name": "stdout",
     "output_type": "stream",
     "text": [
      "enter the string:apple\n",
      "The resulting string is= eppla\n"
     ]
    }
   ],
   "source": [
    "#first and last character changing\n",
    "\n",
    "s=str(input(\"enter the string:\"))\n",
    "a=s[0]\n",
    "b=s[-1]\n",
    "x=(b+s[1:4]+a)\n",
    "print(\"The resulting string is=\",x)"
   ]
  },
  {
   "cell_type": "code",
   "execution_count": 4,
   "id": "d1dbdaed",
   "metadata": {},
   "outputs": [
    {
     "name": "stdout",
     "output_type": "stream",
     "text": [
      "enter the string:apple\n",
      "The resulting string is= aple\n"
     ]
    }
   ],
   "source": [
    "#string first 2 and last two characters\n",
    "s=str(input(\"enter the string:\"))\n",
    "a=s[0:2]\n",
    "b=s[-2:]\n",
    "x=(a+b)\n",
    "print(\"The resulting string is=\",x)"
   ]
  },
  {
   "cell_type": "code",
   "execution_count": 5,
   "id": "0919d705",
   "metadata": {},
   "outputs": [
    {
     "name": "stdout",
     "output_type": "stream",
     "text": [
      "enter the string=hello\n",
      "enter the string=world\n",
      "The resulting string is= wollo  herld\n"
     ]
    }
   ],
   "source": [
    "# 2 given string seperated by space and swap frist 2 characters of each string\n",
    "\n",
    "s1=str(input(\"enter the string=\"))\n",
    "s2=str(input(\"enter the string=\"))\n",
    "a=s1[0:2]\n",
    "b=s2[0:2]\n",
    "x=(b+s1[2:])\n",
    "y=(a+s2[2:])\n",
    "print(\"The resulting string is=\",x ,\"\",y)\n"
   ]
  },
  {
   "cell_type": "code",
   "execution_count": 6,
   "id": "0d28d50a",
   "metadata": {},
   "outputs": [
    {
     "name": "stdout",
     "output_type": "stream",
     "text": [
      "enter the string :onion\n",
      "The resulting string is= oni$n\n"
     ]
    }
   ],
   "source": [
    "#characters have been changed to $ except the first character itself\n",
    "\n",
    "s=str(input(\"enter the string :\"))\n",
    "a=s[0]\n",
    "b=s[1:]\n",
    "st=b.replace(\"o\",\"$\")\n",
    "x=s[0]+st\n",
    "print(\"The resulting string is=\",x)"
   ]
  },
  {
   "cell_type": "code",
   "execution_count": null,
   "id": "92ac08da",
   "metadata": {},
   "outputs": [],
   "source": []
  }
 ],
 "metadata": {
  "kernelspec": {
   "display_name": "Python 3 (ipykernel)",
   "language": "python",
   "name": "python3"
  },
  "language_info": {
   "codemirror_mode": {
    "name": "ipython",
    "version": 3
   },
   "file_extension": ".py",
   "mimetype": "text/x-python",
   "name": "python",
   "nbconvert_exporter": "python",
   "pygments_lexer": "ipython3",
   "version": "3.10.12"
  }
 },
 "nbformat": 4,
 "nbformat_minor": 5
}
