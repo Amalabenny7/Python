{
 "cells": [
  {
   "cell_type": "code",
   "execution_count": 4,
   "id": "90c8afe0",
   "metadata": {},
   "outputs": [
    {
     "name": "stdout",
     "output_type": "stream",
     "text": [
      "enter first year:2020\n",
      "enter second year:2030\n",
      "leap years between 2020 and 2030 :\n",
      "2020\n",
      "2024\n",
      "2028\n"
     ]
    }
   ],
   "source": [
    "def leap(l,u):\n",
    "    print(\"leap years between\",l,\"and\",u,\":\")\n",
    "    for i in range(l,u+1):\n",
    "        if(i%4==0)and(i%100!=0)or(i%400==0):\n",
    "            print(i)\n",
    "a=int(input(\"enter first year:\"))\n",
    "b=int(input(\"enter second year:\"))\n",
    "leap(a,b)"
   ]
  },
  {
   "cell_type": "code",
   "execution_count": null,
   "id": "5afd67f2",
   "metadata": {},
   "outputs": [
    {
     "name": "stdout",
     "output_type": "stream",
     "text": [
      "1.square\n",
      "2.rectangle\n",
      "3.triangle\n",
      "4.exit\n",
      "enter your choice:1\n",
      "enter side:2\n",
      "area of square: 4\n",
      "1.square\n",
      "2.rectangle\n",
      "3.triangle\n",
      "4.exit\n",
      "enter your choice:2\n",
      "enter breadth:2\n",
      "enter height:3\n",
      "area of rectangle: 6\n",
      "1.square\n",
      "2.rectangle\n",
      "3.triangle\n",
      "4.exit\n"
     ]
    }
   ],
   "source": [
    "sqr=lambda a:a*a\n",
    "rect=lambda l,b:l*b\n",
    "tri=lambda b,h:(b*h)/2\n",
    "while(1):\n",
    "    print(\"1.square\\n2.rectangle\\n3.triangle\\n4.exit\")\n",
    "    ch=int(input(\"enter your choice:\"))\n",
    "    if(ch==1):\n",
    "        a=int(input(\"enter side:\"))\n",
    "        print(\"area of square:\",sqr(a))\n",
    "    elif(ch==2):\n",
    "        b=int(input(\"enter breadth:\"))\n",
    "        l=int(input(\"enter height:\"))\n",
    "        print(\"area of rectangle:\",rect(l,b))\n",
    "    elif(ch==3):\n",
    "        b=int(input(\"enter breadth:\"))\n",
    "        h=int(input(\"enter height:\"))\n",
    "        print(\"area of triangle:\",tri(b,h))\n",
    "    else:\n",
    "        print(\"exiting...\")\n",
    "        break"
   ]
  },
  {
   "cell_type": "code",
   "execution_count": 7,
   "id": "a74cd074",
   "metadata": {},
   "outputs": [
    {
     "name": "stdout",
     "output_type": "stream",
     "text": [
      "enter 4 digit lower range:1234\n",
      "enter 4 digit upper range:9000\n",
      "list: [4624, 6084, 6400, 8464]\n"
     ]
    }
   ],
   "source": [
    "import math\n",
    "n1=int(input(\"enter 4 digit lower range:\"))\n",
    "n2=int(input(\"enter 4 digit upper range:\"))\n",
    "l=[]\n",
    "x=0\n",
    "for i in range(n1,n2):\n",
    "    x=i\n",
    "    while(x!=0):\n",
    "        k1=x%10\n",
    "        x=int(x/10)\n",
    "        k2=x%10\n",
    "        x=int(x/10)\n",
    "        k3=x%10\n",
    "        x=int(x/10)\n",
    "        k4=x%10\n",
    "        x=int(x/10)\n",
    "        sq=int(math.sqrt(i))\n",
    "        if(sq*sq==i):\n",
    "            if(k1%2==0 and k2%2==0 and k3%2==0 and k4%2==0):\n",
    "                l.append(i)\n",
    "print(\"list:\",l)"
   ]
  },
  {
   "cell_type": "code",
   "execution_count": 9,
   "id": "d43737c1",
   "metadata": {},
   "outputs": [
    {
     "name": "stdout",
     "output_type": "stream",
     "text": [
      "enter a word:engineer\n",
      "new word: engineering\n"
     ]
    }
   ],
   "source": [
    "word=input(\"enter a word:\")\n",
    "str1=word[-3:]\n",
    "if str1=='ing':\n",
    "    word=word+'ly'\n",
    "else:\n",
    "    word=word+'ing'\n",
    "print(\"new word:\",word)"
   ]
  },
  {
   "cell_type": "code",
   "execution_count": 11,
   "id": "6d987757",
   "metadata": {},
   "outputs": [
    {
     "name": "stdout",
     "output_type": "stream",
     "text": [
      "enter a list of words with comma seperated:ab,abc,abcd\n",
      "length of longest word: 4\n"
     ]
    }
   ],
   "source": [
    "l1=[]\n",
    "l=list(map(str,input(\"enter a list of words with comma seperated:\").split(\",\")))\n",
    "for i in l:\n",
    "    l1.append(len(i))\n",
    "print(\"length of longest word:\",max(l1))"
   ]
  },
  {
   "cell_type": "code",
   "execution_count": null,
   "id": "7acd51a8",
   "metadata": {},
   "outputs": [],
   "source": []
  }
 ],
 "metadata": {
  "kernelspec": {
   "display_name": "Python 3 (ipykernel)",
   "language": "python",
   "name": "python3"
  },
  "language_info": {
   "codemirror_mode": {
    "name": "ipython",
    "version": 3
   },
   "file_extension": ".py",
   "mimetype": "text/x-python",
   "name": "python",
   "nbconvert_exporter": "python",
   "pygments_lexer": "ipython3",
   "version": "3.10.12"
  }
 },
 "nbformat": 4,
 "nbformat_minor": 5
}
