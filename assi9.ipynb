{
 "cells": [
  {
   "cell_type": "code",
   "execution_count": 1,
   "id": "2dfa230c",
   "metadata": {},
   "outputs": [
    {
     "name": "stdout",
     "output_type": "stream",
     "text": [
      "Enter name: amala\n",
      "Enter key value: 23\n",
      "Enter name: benny\n",
      "Enter key value: 12\n",
      "Enter name: chinnu\n",
      "Enter key value: 7\n",
      "dictoinory= {'amala': '23', 'benny': '12', 'chinnu': '7'}\n",
      "Ascending order= {'amala': '23', 'benny': '12', 'chinnu': '7'}\n",
      "Descending order= {'chinnu': '7', 'benny': '12', 'amala': '23'}\n"
     ]
    }
   ],
   "source": [
    "#sorting in ascending and descending\n",
    "\n",
    "dic={}\n",
    "for i in range(3):\n",
    "    name = input(\"Enter name: \")\n",
    "    key = input(\"Enter key value: \")\n",
    "    dic[name] = key\n",
    "print(\"dictoinory=\",dic)\n",
    "ascend=sorted(dic.items())\n",
    "new_dict = dict(ascend)\n",
    "print(\"Ascending order=\",new_dict)\n",
    "\n",
    "\n",
    "descend = dict(sorted(dic.items(),  reverse = True))\n",
    "print(\"Descending order=\",descend)\n",
    "\n",
    "\n",
    " \n"
   ]
  },
  {
   "cell_type": "code",
   "execution_count": 2,
   "id": "5f97f141",
   "metadata": {},
   "outputs": [
    {
     "name": "stdout",
     "output_type": "stream",
     "text": [
      "enter the name :amala\n",
      "enter the age:20\n",
      "first dictionary is: {'name': 'amala', 'age': '20'}\n",
      "enter the color:red\n",
      "enter the flower name:rose\n",
      "second dictionary is: {'color': 'red', 'flower': 'rose'}\n",
      "\n",
      " merge dictionary is {'name': 'amala', 'age': '20', 'color': 'red', 'flower': 'rose'}\n"
     ]
    }
   ],
   "source": [
    "#merge dictionaries\n",
    "\n",
    "d1={}\n",
    "name=input(\"enter the name :\")\n",
    "age=input(\"enter the age:\")\n",
    "d1['name']=name\n",
    "d1['age']=age\n",
    "print(\"first dictionary is:\",d1)\n",
    "d2={}\n",
    "color=input(\"enter the color:\")\n",
    "flower=input(\"enter the flower name:\")\n",
    "d2['color']=color\n",
    "d2['flower']=flower\n",
    "print(\"second dictionary is:\",d2)\n",
    "d3=d1\n",
    "d1.update(d2)\n",
    "print(\"\\n merge dictionary is\",d3)"
   ]
  },
  {
   "cell_type": "code",
   "execution_count": null,
   "id": "4c9f4b71",
   "metadata": {},
   "outputs": [],
   "source": []
  },
  {
   "cell_type": "code",
   "execution_count": null,
   "id": "44583266",
   "metadata": {},
   "outputs": [],
   "source": []
  },
  {
   "cell_type": "code",
   "execution_count": null,
   "id": "e17a227c",
   "metadata": {},
   "outputs": [],
   "source": []
  }
 ],
 "metadata": {
  "kernelspec": {
   "display_name": "Python 3 (ipykernel)",
   "language": "python",
   "name": "python3"
  },
  "language_info": {
   "codemirror_mode": {
    "name": "ipython",
    "version": 3
   },
   "file_extension": ".py",
   "mimetype": "text/x-python",
   "name": "python",
   "nbconvert_exporter": "python",
   "pygments_lexer": "ipython3",
   "version": "3.10.12"
  }
 },
 "nbformat": 4,
 "nbformat_minor": 5
}
