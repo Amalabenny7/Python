{
 "cells": [
  {
   "cell_type": "code",
   "execution_count": 1,
   "id": "3256168d",
   "metadata": {
    "scrolled": true
   },
   "outputs": [
    {
     "name": "stdout",
     "output_type": "stream",
     "text": [
      "hello\n"
     ]
    }
   ],
   "source": [
    "print(\"hello\")"
   ]
  },
  {
   "cell_type": "code",
   "execution_count": 5,
   "id": "f7acfc97",
   "metadata": {
    "scrolled": false
   },
   "outputs": [
    {
     "name": "stdout",
     "output_type": "stream",
     "text": [
      "amala,\n",
      "kogola,mukkam\n"
     ]
    }
   ],
   "source": [
    "print(\"amala,\\nkogola,mukkam\")"
   ]
  },
  {
   "cell_type": "code",
   "execution_count": 6,
   "id": "c382099d",
   "metadata": {
    "scrolled": true
   },
   "outputs": [
    {
     "name": "stdout",
     "output_type": "stream",
     "text": [
      "c\n"
     ]
    }
   ],
   "source": [
    "a=\"1\"\n",
    "b=\"2\"\n",
    "c=a+b\n",
    "print(\"c\")"
   ]
  },
  {
   "cell_type": "code",
   "execution_count": 7,
   "id": "a137e590",
   "metadata": {},
   "outputs": [
    {
     "data": {
      "text/plain": [
       "'12'"
      ]
     },
     "execution_count": 7,
     "metadata": {},
     "output_type": "execute_result"
    }
   ],
   "source": [
    "a=\"1\"\n",
    "b=\"2\"\n",
    "a+b"
   ]
  },
  {
   "cell_type": "code",
   "execution_count": 9,
   "id": "4851d85a",
   "metadata": {},
   "outputs": [
    {
     "name": "stdout",
     "output_type": "stream",
     "text": [
      "entr the side of a sqare:3\n",
      "area of a sqare is= 9\n"
     ]
    }
   ],
   "source": [
    "x=int(input(\"entr the side of a sqare:\"))\n",
    "area=x*x\n",
    "print(\"area of a sqare is=\",area)"
   ]
  },
  {
   "cell_type": "code",
   "execution_count": 10,
   "id": "36a6bc6c",
   "metadata": {},
   "outputs": [
    {
     "name": "stdout",
     "output_type": "stream",
     "text": [
      "enter the side base:4\n",
      "enter the hight:5\n",
      "area of right angle triangle= 10.0\n"
     ]
    }
   ],
   "source": [
    "x=int(input(\"enter the side base:\"))\n",
    "y=int(input(\"enter the hight:\"))\n",
    "area=x*y/2\n",
    "print(\"area of right angle triangle=\",area)"
   ]
  },
  {
   "cell_type": "code",
   "execution_count": 1,
   "id": "a6440d17",
   "metadata": {},
   "outputs": [
    {
     "name": "stdout",
     "output_type": "stream",
     "text": [
      "enter a number:5\n",
      "previous number= 4\n",
      "next number= 6\n"
     ]
    }
   ],
   "source": [
    "x=int(input(\"enter a number:\"))\n",
    "pre=x-1\n",
    "next=x+1\n",
    "print(\"previous number=\",pre)\n",
    "print(\"next number=\",next)"
   ]
  },
  {
   "cell_type": "code",
   "execution_count": 12,
   "id": "38726aa1",
   "metadata": {},
   "outputs": [
    {
     "name": "stdout",
     "output_type": "stream",
     "text": [
      "enter the priciple amount:100\n",
      "enter the number of years:2\n",
      "enter the rate of interest:5\n",
      "interest is = 10.0\n"
     ]
    }
   ],
   "source": [
    "p=int(input(\"enter the priciple amount:\"))\n",
    "n=int(input(\"enter the number of years:\"))\n",
    "r=int(input(\"enter the rate of interest:\")) \n",
    "i=(p*n*r)/100\n",
    "print(\"interest is =\",i)"
   ]
  },
  {
   "cell_type": "code",
   "execution_count": 10,
   "id": "5d6c408f",
   "metadata": {
    "scrolled": true
   },
   "outputs": [
    {
     "name": "stdout",
     "output_type": "stream",
     "text": [
      "enter the number:3\n",
      " 3 + 33 + 333 = 369\n"
     ]
    }
   ],
   "source": [
    "n=int(input(\"enter the number:\"))\n",
    "s=11*n\n",
    "y=111*n\n",
    "print(\"\",n,\"+\",s,\"+\",y,\"=\",n+s+y)"
   ]
  },
  {
   "cell_type": "code",
   "execution_count": null,
   "id": "e5882334",
   "metadata": {},
   "outputs": [],
   "source": []
  }
 ],
 "metadata": {
  "kernelspec": {
   "display_name": "Python 3 (ipykernel)",
   "language": "python",
   "name": "python3"
  },
  "language_info": {
   "codemirror_mode": {
    "name": "ipython",
    "version": 3
   },
   "file_extension": ".py",
   "mimetype": "text/x-python",
   "name": "python",
   "nbconvert_exporter": "python",
   "pygments_lexer": "ipython3",
   "version": "3.10.12"
  }
 },
 "nbformat": 4,
 "nbformat_minor": 5
}
